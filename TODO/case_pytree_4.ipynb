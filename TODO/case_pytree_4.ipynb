{
 "cells": [
  {
   "cell_type": "code",
   "execution_count": 1,
   "metadata": {},
   "outputs": [],
   "source": [
    "import jax"
   ]
  },
  {
   "cell_type": "code",
   "execution_count": 2,
   "metadata": {},
   "outputs": [
    {
     "data": {
      "text/plain": [
       "[]"
      ]
     },
     "execution_count": 2,
     "metadata": {},
     "output_type": "execute_result"
    }
   ],
   "source": [
    "jax.tree.leaves([None, None, None])"
   ]
  },
  {
   "cell_type": "code",
   "execution_count": 39,
   "metadata": {},
   "outputs": [
    {
     "name": "stdout",
     "output_type": "stream",
     "text": [
      "leaves [None, None, None]\n",
      "Flattened tree: [None, None, None]\n",
      "PyTreeDef: PyTreeDef([*, *, *])\n"
     ]
    }
   ],
   "source": [
    "tree = [None, None, None]\n",
    "flat, treedef = jax.tree_util.tree_flatten(tree, is_leaf=lambda x: x is None)\n",
    "print(\"leaves\", jax.tree.leaves(tree, is_leaf=lambda x: x is None))\n",
    "print(\"Flattened tree:\", flat)\n",
    "print(\"PyTreeDef:\", treedef)"
   ]
  },
  {
   "cell_type": "code",
   "execution_count": 40,
   "metadata": {},
   "outputs": [
    {
     "name": "stdout",
     "output_type": "stream",
     "text": [
      "leaves [[None, None, None]]\n",
      "Flattened tree: [[None, None, None]]\n",
      "PyTreeDef: PyTreeDef(*)\n"
     ]
    }
   ],
   "source": [
    "tree = [None, None, None]\n",
    "flat, treedef = jax.tree_util.tree_flatten(tree, is_leaf=lambda x: x is not None)\n",
    "print(\"leaves\", jax.tree.leaves(tree, is_leaf=lambda x: x is not None))\n",
    "print(\"Flattened tree:\", flat)\n",
    "print(\"PyTreeDef:\", treedef)"
   ]
  },
  {
   "cell_type": "code",
   "execution_count": 46,
   "metadata": {},
   "outputs": [
    {
     "name": "stdout",
     "output_type": "stream",
     "text": [
      "leaves [2.0, 3]\n",
      "Flattened tree: [2.0, 3]\n",
      "PyTreeDef: PyTreeDef([None, *, *])\n"
     ]
    }
   ],
   "source": [
    "tree = [None, 2.0, 3]\n",
    "flat, treedef = jax.tree_util.tree_flatten(tree, is_leaf=lambda x: isinstance(x, int))\n",
    "print(\"leaves\", jax.tree.leaves(tree, is_leaf=lambda x: isinstance(x, int)))\n",
    "print(\"Flattened tree:\", flat)\n",
    "print(\"PyTreeDef:\", treedef)"
   ]
  },
  {
   "cell_type": "code",
   "execution_count": 47,
   "metadata": {},
   "outputs": [
    {
     "name": "stdout",
     "output_type": "stream",
     "text": [
      "leaves [2.0, 3]\n",
      "Flattened tree: [2.0, 3]\n",
      "PyTreeDef: PyTreeDef([None, *, *])\n"
     ]
    }
   ],
   "source": [
    "tree = [None, 2.0, 3]\n",
    "flat, treedef = jax.tree_util.tree_flatten(tree, is_leaf=lambda x: isinstance(x, float))\n",
    "print(\"leaves\", jax.tree.leaves(tree, is_leaf=lambda x: isinstance(x, float)))\n",
    "print(\"Flattened tree:\", flat)\n",
    "print(\"PyTreeDef:\", treedef)"
   ]
  }
 ],
 "metadata": {
  "kernelspec": {
   "display_name": "Python 3",
   "language": "python",
   "name": "python3"
  },
  "language_info": {
   "codemirror_mode": {
    "name": "ipython",
    "version": 3
   },
   "file_extension": ".py",
   "mimetype": "text/x-python",
   "name": "python",
   "nbconvert_exporter": "python",
   "pygments_lexer": "ipython3",
   "version": "3.10.4"
  }
 },
 "nbformat": 4,
 "nbformat_minor": 2
}

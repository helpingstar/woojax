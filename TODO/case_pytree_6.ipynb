{
 "cells": [
  {
   "cell_type": "code",
   "execution_count": 13,
   "metadata": {},
   "outputs": [],
   "source": [
    "import jax"
   ]
  },
  {
   "cell_type": "code",
   "execution_count": 17,
   "metadata": {},
   "outputs": [
    {
     "name": "stdout",
     "output_type": "stream",
     "text": [
      "episode_steps [{'t': 1, 'obs': 3}, {'t': 2, 'obs': 4}]\n",
      "PyTreeDef([{'obs': *, 't': *}, {'obs': *, 't': *}])\n",
      "PyTreeDef({'obs': [*, *], 't': [*, *]})\n"
     ]
    }
   ],
   "source": [
    "def tree_transpose(list_of_trees):\n",
    "  \"\"\"\n",
    "  Converts a list of trees of identical structure into a single tree of lists.\n",
    "  \"\"\"\n",
    "  return jax.tree.map(lambda *xs: list(xs), *list_of_trees)\n",
    "\n",
    "# Convert a dataset from row-major to column-major.\n",
    "episode_steps = [dict(t=1, obs=3), dict(t=2, obs=4)]\n",
    "\n",
    "print(\"episode_steps\", episode_steps)\n",
    "# transpose 전 structure\n",
    "print(jax.tree.structure(episode_steps))\n",
    "\n",
    "# transpose 후 structure\n",
    "tree_transpose(episode_steps)\n",
    "print(jax.tree.structure(tree_transpose(episode_steps)))"
   ]
  },
  {
   "cell_type": "code",
   "execution_count": 31,
   "metadata": {},
   "outputs": [
    {
     "data": {
      "text/plain": [
       "{'obs': (3, 4), 't': (1, 2)}"
      ]
     },
     "execution_count": 31,
     "metadata": {},
     "output_type": "execute_result"
    }
   ],
   "source": [
    "# 아래 함수의 실행원리\n",
    "jax.tree.map(lambda *xs: xs, *episode_steps)"
   ]
  },
  {
   "cell_type": "code",
   "execution_count": 46,
   "metadata": {},
   "outputs": [],
   "source": [
    "def foo1(x, y):\n",
    "    print(x, y)"
   ]
  },
  {
   "cell_type": "code",
   "execution_count": 50,
   "metadata": {},
   "outputs": [],
   "source": [
    "def foo2(*x):\n",
    "    print(*x)\n",
    "    print(x)"
   ]
  },
  {
   "cell_type": "code",
   "execution_count": 51,
   "metadata": {},
   "outputs": [
    {
     "name": "stdout",
     "output_type": "stream",
     "text": [
      "{'t': 1, 'obs': 3} {'t': 2, 'obs': 4}\n"
     ]
    }
   ],
   "source": [
    "foo1(*episode_steps)"
   ]
  },
  {
   "cell_type": "code",
   "execution_count": 52,
   "metadata": {},
   "outputs": [
    {
     "name": "stdout",
     "output_type": "stream",
     "text": [
      "{'t': 1, 'obs': 3} {'t': 2, 'obs': 4}\n",
      "({'t': 1, 'obs': 3}, {'t': 2, 'obs': 4})\n"
     ]
    }
   ],
   "source": [
    "foo2(*episode_steps)"
   ]
  },
  {
   "cell_type": "code",
   "execution_count": 26,
   "metadata": {},
   "outputs": [
    {
     "data": {
      "text/plain": [
       "{'obs': [(3, 4)], 't': [(1, 2)]}"
      ]
     },
     "execution_count": 26,
     "metadata": {},
     "output_type": "execute_result"
    }
   ],
   "source": [
    "# 아래 함수의 실행원리\n",
    "jax.tree.map(lambda *xs: [xs], *episode_steps)"
   ]
  },
  {
   "cell_type": "code",
   "execution_count": 15,
   "metadata": {},
   "outputs": [
    {
     "data": {
      "text/plain": [
       "PyTreeDef([*, *])"
      ]
     },
     "execution_count": 15,
     "metadata": {},
     "output_type": "execute_result"
    }
   ],
   "source": [
    "jax.tree.structure([0 for e in episode_steps])"
   ]
  },
  {
   "cell_type": "code",
   "execution_count": 11,
   "metadata": {},
   "outputs": [
    {
     "data": {
      "text/plain": [
       "PyTreeDef({'obs': *, 't': *})"
      ]
     },
     "execution_count": 11,
     "metadata": {},
     "output_type": "execute_result"
    }
   ],
   "source": [
    "jax.tree.structure(episode_steps[0])"
   ]
  },
  {
   "cell_type": "code",
   "execution_count": null,
   "metadata": {},
   "outputs": [],
   "source": [
    "jax.tree.transpose(\n",
    "  outer_treedef = jax.tree.structure([0 for e in episode_steps]),\n",
    "  inner_treedef = jax.tree.structure(episode_steps[0]),\n",
    "  pytree_to_transpose = episode_steps\n",
    ")"
   ]
  }
 ],
 "metadata": {
  "kernelspec": {
   "display_name": "Python 3",
   "language": "python",
   "name": "python3"
  },
  "language_info": {
   "codemirror_mode": {
    "name": "ipython",
    "version": 3
   },
   "file_extension": ".py",
   "mimetype": "text/x-python",
   "name": "python",
   "nbconvert_exporter": "python",
   "pygments_lexer": "ipython3",
   "version": "3.10.4"
  }
 },
 "nbformat": 4,
 "nbformat_minor": 2
}

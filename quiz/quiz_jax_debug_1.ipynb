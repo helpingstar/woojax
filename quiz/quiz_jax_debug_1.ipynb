{
 "cells": [
  {
   "cell_type": "code",
   "execution_count": 1,
   "metadata": {},
   "outputs": [],
   "source": [
    "import jax\n",
    "import jax.numpy as jnp"
   ]
  },
  {
   "cell_type": "code",
   "execution_count": null,
   "metadata": {},
   "outputs": [],
   "source": [
    "# 다음 셀의 출력을 예상하시오\n",
    "\n",
    "@jax.jit\n",
    "def f(x):\n",
    "  print(f\"[2] {x}\")\n",
    "  jax.debug.print(\"[3] {x}\", x=x)\n",
    "  y = jnp.sin(x)\n",
    "  return y\n",
    "\n",
    "print(\"[1]\")\n",
    "\n",
    "f(2.)\n",
    "f(2.)"
   ]
  },
  {
   "cell_type": "code",
   "execution_count": null,
   "metadata": {},
   "outputs": [],
   "source": [
    "# 다음 셀의 출력을 예상하시오\n",
    "\n",
    "def f1(x):\n",
    "  print(f\"[2] {x}\")\n",
    "  jax.debug.print(\"[3] {x}\", x=x)\n",
    "  y = jnp.sin(x)\n",
    "  return y\n",
    "\n",
    "f1_jit = jax.jit(f1)\n",
    "\n",
    "print(\"[1]\")\n",
    "\n",
    "f1_jit(2.)\n",
    "f1_jit(2.)"
   ]
  },
  {
   "cell_type": "code",
   "execution_count": null,
   "metadata": {},
   "outputs": [],
   "source": [
    "# 다음 셀의 출력을 예상하시오\n",
    "\n",
    "def f2(x):\n",
    "  print(f\"[2] {x}\")\n",
    "  jax.debug.print(f\"[3] {x}\")\n",
    "  y = jnp.sin(x)\n",
    "  return y\n",
    "\n",
    "f2_jit = jax.jit(f2)\n",
    "\n",
    "print(\"[1]\")\n",
    "\n",
    "f2_jit(2.)\n",
    "f2_jit(2.)"
   ]
  }
 ],
 "metadata": {
  "kernelspec": {
   "display_name": "Python 3",
   "language": "python",
   "name": "python3"
  },
  "language_info": {
   "codemirror_mode": {
    "name": "ipython",
    "version": 3
   },
   "file_extension": ".py",
   "mimetype": "text/x-python",
   "name": "python",
   "nbconvert_exporter": "python",
   "pygments_lexer": "ipython3",
   "version": "3.10.4"
  }
 },
 "nbformat": 4,
 "nbformat_minor": 2
}

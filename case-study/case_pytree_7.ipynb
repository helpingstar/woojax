{
 "cells": [
  {
   "cell_type": "code",
   "execution_count": 5,
   "metadata": {},
   "outputs": [],
   "source": [
    "from jax.tree_util import tree_flatten, tree_unflatten, register_pytree_node_class\n",
    "import jax.numpy as jnp"
   ]
  },
  {
   "cell_type": "code",
   "execution_count": 7,
   "metadata": {},
   "outputs": [],
   "source": [
    "class Special(object):\n",
    "  def __init__(self, x, y):\n",
    "    self.x = x\n",
    "    self.y = y\n",
    "\n",
    "  def __repr__(self):\n",
    "    return \"Special(x={}, y={})\".format(self.x, self.y)"
   ]
  },
  {
   "cell_type": "code",
   "execution_count": 8,
   "metadata": {},
   "outputs": [],
   "source": [
    "def show_example(structured):\n",
    "  flat, tree = tree_flatten(structured)\n",
    "  unflattened = tree_unflatten(tree, flat)\n",
    "  print(f\"{structured=}\\n  {flat=}\\n  {tree=}\\n  {unflattened=}\")"
   ]
  },
  {
   "cell_type": "code",
   "execution_count": null,
   "metadata": {},
   "outputs": [],
   "source": [
    "from jax.tree_util import register_pytree_node\n",
    "\n",
    "class RegisteredSpecial(Special):\n",
    "  def __repr__(self):\n",
    "    return \"RegisteredSpecial(x={}, y={})\".format(self.x, self.y)\n",
    "\n",
    "def special_flatten(v):\n",
    "  children = (v.x, v.y)\n",
    "  aux_data = None\n",
    "  return (children, aux_data)\n",
    "\n",
    "def special_unflatten(aux_data, children):\n",
    "  return RegisteredSpecial(*children)\n",
    "\n",
    "# Global registration\n",
    "register_pytree_node(\n",
    "    RegisteredSpecial,\n",
    "    special_flatten,    # tell JAX what are the children nodes\n",
    "    special_unflatten   # tell JAX how to pack back into a RegisteredSpecial\n",
    ")\n",
    "\n",
    "show_example(RegisteredSpecial(1., 2.))"
   ]
  },
  {
   "cell_type": "code",
   "execution_count": 9,
   "metadata": {},
   "outputs": [
    {
     "name": "stdout",
     "output_type": "stream",
     "text": [
      "structured=RegisteredSpecial2(x=1.0, y=2.0)\n",
      "  flat=[1.0, 2.0]\n",
      "  tree=PyTreeDef(CustomNode(RegisteredSpecial2[None], [*, *]))\n",
      "  unflattened=RegisteredSpecial2(x=1.0, y=2.0)\n"
     ]
    }
   ],
   "source": [
    "@register_pytree_node_class\n",
    "class RegisteredSpecial2(Special):\n",
    "  def __repr__(self):\n",
    "    return \"RegisteredSpecial2(x={}, y={})\".format(self.x, self.y)\n",
    "\n",
    "  # 여기에 classmethod를 사용하면 flatten시에 class 변수가 flatten되므로 그러면 안된다.\n",
    "  def tree_flatten(self):\n",
    "    children = (self.x, self.y)\n",
    "    aux_data = None\n",
    "    return (children, aux_data)\n",
    "\n",
    "  # instance에 종속된 값이 없고 앞으로도 그럴 일이 없기 때문에 classmethod사용\n",
    "  @classmethod\n",
    "  def tree_unflatten(cls, aux_data, children):\n",
    "    return cls(*children)\n",
    "\n",
    "show_example(RegisteredSpecial2(1., 2.))"
   ]
  },
  {
   "cell_type": "code",
   "execution_count": 10,
   "metadata": {},
   "outputs": [
    {
     "name": "stdout",
     "output_type": "stream",
     "text": [
      "structured=RegisteredSpecial2(x=1.0, y=2.0)\n",
      "  flat=[1.0, 2.0]\n",
      "  tree=PyTreeDef(CustomNode(RegisteredSpecial2[None], [*, *]))\n",
      "  unflattened=RegisteredSpecial2(x=1.0, y=2.0)\n"
     ]
    }
   ],
   "source": [
    "@register_pytree_node_class\n",
    "class RegisteredSpecial3(Special):\n",
    "  def __repr__(self):\n",
    "    return \"RegisteredSpecial3(x={}, y={})\".format(self.x, self.y)\n",
    "\n",
    "  def tree_flatten(self):\n",
    "    children = (self.x, self.y)\n",
    "    aux_data = None\n",
    "    return (children, aux_data)\n",
    "\n",
    "  # classmethod를 사용하지 않으면 어떻게 될까?\n",
    "  def tree_unflatten(self, aux_data, children):\n",
    "    return self(*children)\n",
    "\n",
    "show_example(RegisteredSpecial2(1., 2.))"
   ]
  },
  {
   "cell_type": "code",
   "execution_count": null,
   "metadata": {},
   "outputs": [],
   "source": []
  }
 ],
 "metadata": {
  "kernelspec": {
   "display_name": "Python 3",
   "language": "python",
   "name": "python3"
  },
  "language_info": {
   "codemirror_mode": {
    "name": "ipython",
    "version": 3
   },
   "file_extension": ".py",
   "mimetype": "text/x-python",
   "name": "python",
   "nbconvert_exporter": "python",
   "pygments_lexer": "ipython3",
   "version": "3.10.4"
  }
 },
 "nbformat": 4,
 "nbformat_minor": 2
}

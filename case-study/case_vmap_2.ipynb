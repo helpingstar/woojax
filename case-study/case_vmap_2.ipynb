{
 "cells": [
  {
   "cell_type": "code",
   "execution_count": 5,
   "metadata": {},
   "outputs": [],
   "source": [
    "import jax.numpy as jnp\n",
    "from jax import vmap"
   ]
  },
  {
   "cell_type": "markdown",
   "metadata": {},
   "source": [
    "Base Function"
   ]
  },
  {
   "cell_type": "code",
   "execution_count": 2,
   "metadata": {},
   "outputs": [],
   "source": [
    "A, B, C, D = 2, 3, 4, 5\n",
    "x = jnp.ones((A, B))\n",
    "y = jnp.ones((B, C))\n",
    "z = jnp.ones((C, D))"
   ]
  },
  {
   "cell_type": "code",
   "execution_count": 3,
   "metadata": {},
   "outputs": [],
   "source": [
    "def foo(tree_arg):\n",
    "  x, (y, z) = tree_arg\n",
    "  return jnp.dot(x, jnp.dot(y, z))"
   ]
  },
  {
   "cell_type": "code",
   "execution_count": 32,
   "metadata": {},
   "outputs": [
    {
     "name": "stdout",
     "output_type": "stream",
     "text": [
      "(2, 5)\n"
     ]
    }
   ],
   "source": [
    "tree = (x, (y, z))\n",
    "print(foo(tree).shape)"
   ]
  },
  {
   "cell_type": "markdown",
   "metadata": {},
   "source": [
    "## (K, A, B), (B, K, C), (K, C, D) -> (A, K, D)"
   ]
  },
  {
   "cell_type": "markdown",
   "metadata": {},
   "source": [
    "double `vmap`"
   ]
  },
  {
   "cell_type": "code",
   "execution_count": 28,
   "metadata": {},
   "outputs": [],
   "source": [
    "K = 6\n",
    "A, B, C, D = 2, 3, 4, 5\n",
    "x = jnp.ones((A, B))\n",
    "y = jnp.ones((B, C))\n",
    "z = jnp.ones((C, D))\n",
    "\n",
    "kx = jnp.ones((K, A, B))\n",
    "ky = jnp.ones((B, K, C))\n",
    "kz = jnp.ones((K, C, D))\n",
    "# (K, A, B) x (B, K, C) -> (A, C, K)\n",
    "vdot1 = vmap(jnp.dot, in_axes=(0, 1), out_axes=2)\n",
    "# (A, C, K) x (K, C, D) -> (A, K, D)\n",
    "vdot2 = vmap(jnp.dot, in_axes=(2, 0), out_axes=1)"
   ]
  },
  {
   "cell_type": "code",
   "execution_count": 31,
   "metadata": {},
   "outputs": [
    {
     "name": "stdout",
     "output_type": "stream",
     "text": [
      "(2, 4, 6)\n",
      "(2, 6, 5)\n"
     ]
    }
   ],
   "source": [
    "kxky = vdot1(kx, ky)\n",
    "print(kxky.shape)\n",
    "print(vdot2(kxky, kz).shape)"
   ]
  },
  {
   "cell_type": "markdown",
   "metadata": {},
   "source": [
    "`tree`"
   ]
  },
  {
   "cell_type": "code",
   "execution_count": 34,
   "metadata": {},
   "outputs": [],
   "source": [
    "def foo(tree_arg):\n",
    "  x, (y, z) = tree_arg\n",
    "  return jnp.dot(x, jnp.dot(y, z))"
   ]
  },
  {
   "cell_type": "code",
   "execution_count": 37,
   "metadata": {},
   "outputs": [
    {
     "name": "stdout",
     "output_type": "stream",
     "text": [
      "(2, 6, 5)\n"
     ]
    }
   ],
   "source": [
    "K = 6  # batch size\n",
    "x = jnp.ones((K, A, B))\n",
    "y = jnp.ones((B, K, C))\n",
    "z = jnp.ones((K, C, D))\n",
    "tree = (x, (y, z))\n",
    "vfoo = vmap(foo, in_axes=((0, (1, 0)),), out_axes=1)\n",
    "print(vfoo(tree).shape)"
   ]
  },
  {
   "cell_type": "markdown",
   "metadata": {},
   "source": [
    "결국 본질은 `pytree`"
   ]
  },
  {
   "cell_type": "markdown",
   "metadata": {},
   "source": []
  }
 ],
 "metadata": {
  "kernelspec": {
   "display_name": "Python 3",
   "language": "python",
   "name": "python3"
  },
  "language_info": {
   "codemirror_mode": {
    "name": "ipython",
    "version": 3
   },
   "file_extension": ".py",
   "mimetype": "text/x-python",
   "name": "python",
   "nbconvert_exporter": "python",
   "pygments_lexer": "ipython3",
   "version": "3.10.4"
  }
 },
 "nbformat": 4,
 "nbformat_minor": 2
}

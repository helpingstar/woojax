{
 "cells": [
  {
   "cell_type": "code",
   "execution_count": 26,
   "metadata": {},
   "outputs": [],
   "source": [
    "import jax\n",
    "from jax import grad, jit\n",
    "import jax.numpy as jnp\n",
    "from functools import partial"
   ]
  },
  {
   "cell_type": "code",
   "execution_count": 5,
   "metadata": {},
   "outputs": [
    {
     "name": "stdout",
     "output_type": "stream",
     "text": [
      "[0.25       0.19661194 0.10499357]\n"
     ]
    }
   ],
   "source": [
    "def sum_logistic(x):\n",
    "  return jnp.sum(1.0 / (1.0 + jnp.exp(-x)))\n",
    "\n",
    "x_small = jnp.arange(3.)\n",
    "derivative_fn = grad(sum_logistic)\n",
    "print(derivative_fn(x_small))"
   ]
  },
  {
   "cell_type": "code",
   "execution_count": 6,
   "metadata": {},
   "outputs": [
    {
     "name": "stdout",
     "output_type": "stream",
     "text": [
      "[0.24998187 0.1965761  0.10502338]\n"
     ]
    }
   ],
   "source": [
    "def first_finite_differences(f, x, eps=1E-3):\n",
    "  return jnp.array([(f(x + eps * v) - f(x - eps * v)) / (2 * eps)\n",
    "                   for v in jnp.eye(len(x))])\n",
    "\n",
    "print(first_finite_differences(sum_logistic, x_small))"
   ]
  },
  {
   "cell_type": "code",
   "execution_count": 16,
   "metadata": {},
   "outputs": [],
   "source": [
    "multiple_jit = jit(grad(jit(grad(jit(grad(sum_logistic))))))\n",
    "one_jit = jit(grad(grad(grad(sum_logistic))))"
   ]
  },
  {
   "cell_type": "code",
   "execution_count": 25,
   "metadata": {},
   "outputs": [
    {
     "name": "stdout",
     "output_type": "stream",
     "text": [
      "-0.0353256\n",
      "-0.0353256\n"
     ]
    }
   ],
   "source": [
    "# same result\n",
    "print(multiple_jit(1.0))\n",
    "print(one_jit(1.0))"
   ]
  },
  {
   "cell_type": "markdown",
   "metadata": {},
   "source": [
    "`multiple_jit`, `one_jit`의 컴파일 시간을 측정해보면 `jit`이 중첩된 함수가 컴파일 시간이 더 긴 것으로 추정된다."
   ]
  },
  {
   "cell_type": "code",
   "execution_count": 28,
   "metadata": {},
   "outputs": [
    {
     "name": "stdout",
     "output_type": "stream",
     "text": [
      "53.5 ms ± 437 µs per loop (mean ± std. dev. of 7 runs, 10 loops each)\n"
     ]
    }
   ],
   "source": [
    "%%timeit\n",
    "\n",
    "jit(grad(jit(grad(jit(grad(sum_logistic))))))(1.0)"
   ]
  },
  {
   "cell_type": "code",
   "execution_count": 29,
   "metadata": {},
   "outputs": [
    {
     "name": "stdout",
     "output_type": "stream",
     "text": [
      "38.1 ms ± 567 µs per loop (mean ± std. dev. of 7 runs, 10 loops each)\n"
     ]
    }
   ],
   "source": [
    "%%timeit\n",
    "\n",
    "jit(grad(grad(grad(sum_logistic))))(1.0)"
   ]
  },
  {
   "cell_type": "markdown",
   "metadata": {},
   "source": [
    "compile이 끝난 후에는 `make_jaxpr`에는 표현에 차이가 있지만 속도에는 큰 차이가 없다."
   ]
  },
  {
   "cell_type": "code",
   "execution_count": 19,
   "metadata": {},
   "outputs": [
    {
     "name": "stdout",
     "output_type": "stream",
     "text": [
      "35.7 µs ± 403 ns per loop (mean ± std. dev. of 7 runs, 10,000 loops each)\n"
     ]
    }
   ],
   "source": [
    "%%timeit\n",
    "\n",
    "multiple_jit(1.0)"
   ]
  },
  {
   "cell_type": "code",
   "execution_count": 20,
   "metadata": {},
   "outputs": [
    {
     "name": "stdout",
     "output_type": "stream",
     "text": [
      "35.4 µs ± 554 ns per loop (mean ± std. dev. of 7 runs, 10,000 loops each)\n"
     ]
    }
   ],
   "source": [
    "%%timeit\n",
    "\n",
    "one_jit(1.0)"
   ]
  },
  {
   "cell_type": "code",
   "execution_count": 21,
   "metadata": {},
   "outputs": [
    {
     "data": {
      "text/plain": [
       "{ lambda ; a:f32[]. let\n",
       "    b:f32[] = pjit[\n",
       "      name=sum_logistic\n",
       "      jaxpr={ lambda ; c:f32[]. let\n",
       "          _:f32[] d:f32[] e:f32[] f:f32[] g:f32[] h:f32[] i:f32[] j:f32[] k:f32[] = pjit[\n",
       "            name=sum_logistic\n",
       "            jaxpr={ lambda ; l:f32[]. let\n",
       "                _:f32[] m:f32[] n:f32[] o:f32[] p:f32[] q:f32[] = pjit[\n",
       "                  name=sum_logistic\n",
       "                  jaxpr={ lambda ; r:f32[]. let\n",
       "                      s:f32[] = neg r\n",
       "                      t:f32[] = exp s\n",
       "                      u:f32[] = add 1.0 t\n",
       "                      v:f32[] = div 1.0 u\n",
       "                      _:f32[] = integer_pow[y=-2] u\n",
       "                      _:f32[] = integer_pow[y=-2] u\n",
       "                      w:f32[] = integer_pow[y=-3] u\n",
       "                      _:f32[] = mul -2.0 w\n",
       "                      x:f32[] = integer_pow[y=-2] u\n",
       "                      y:f32[] = integer_pow[y=-3] u\n",
       "                      z:f32[] = mul -2.0 y\n",
       "                      ba:f32[] = integer_pow[y=-3] u\n",
       "                      bb:f32[] = integer_pow[y=-4] u\n",
       "                      bc:f32[] = mul -3.0 bb\n",
       "                      bd:f32[] = mul -2.0 ba\n",
       "                      be:f32[] = convert_element_type[\n",
       "                        new_dtype=float32\n",
       "                        weak_type=False\n",
       "                      ] v\n",
       "                      _:f32[] = reduce_sum[axes=()] be\n",
       "                      bf:f32[] = mul 1.0 x\n",
       "                      bg:f32[] = mul bf 1.0\n",
       "                      bh:f32[] = neg bg\n",
       "                      bi:f32[] = mul bh t\n",
       "                      bj:f32[] = neg bi\n",
       "                    in (bj, t, bd, bh, z, bc) }\n",
       "                ] l\n",
       "                bk:f32[] bl:f32[] bm:f32[] bn:f32[] = pjit[\n",
       "                  name=sum_logistic\n",
       "                  jaxpr={ lambda ; bo:f32[] bp:f32[] bq:f32[] br:f32[]. let\n",
       "                      bs:f32[] = neg br\n",
       "                      bt:f32[] = mul bq bs\n",
       "                      bu:f32[] = mul bs bo\n",
       "                      bv:f32[] = neg bu\n",
       "                      bw:f32[] = mul bv 1.0\n",
       "                      bx:f32[] = mul 1.0 bw\n",
       "                      by:f32[] = mul bx bp\n",
       "                      bz:f32[] = add_any bt by\n",
       "                      ca:f32[] = mul bz bo\n",
       "                      cb:f32[] = neg ca\n",
       "                    in (cb, bs, bx, bz) }\n",
       "                ] m n o 1.0\n",
       "              in (bk, m, p, o, q, bl, n, bm, bn) }\n",
       "          ] c\n",
       "          cc:f32[] = pjit[\n",
       "            name=sum_logistic\n",
       "            jaxpr={ lambda ; cd:f32[] ce:f32[] cf:f32[] cg:f32[] ch:f32[] ci:f32[]\n",
       "                cj:f32[] ck:f32[] cl:f32[]. let\n",
       "                cm:f32[] cn:f32[] co:f32[] = pjit[\n",
       "                  name=sum_logistic\n",
       "                  jaxpr={ lambda ; cp:f32[] cq:f32[] cr:f32[] cs:f32[] ct:f32[] cu:f32[]. let\n",
       "                      cv:f32[] = neg cu\n",
       "                      cw:f32[] = mul ct cv\n",
       "                      cx:f32[] = mul cv cs\n",
       "                      cy:f32[] = mul cr cx\n",
       "                      cz:f32[] = mul cx cq\n",
       "                      da:f32[] = mul 1.0 cz\n",
       "                      db:f32[] = mul da 1.0\n",
       "                      dc:f32[] = neg db\n",
       "                      dd:f32[] = mul cp dc\n",
       "                      de:f32[] = add_any cw dd\n",
       "                      df:f32[] = mul cx cp\n",
       "                    in (de, cy, df) }\n",
       "                ] ch ci cj cd ck cl\n",
       "                dg:f32[] = pjit[\n",
       "                  name=sum_logistic\n",
       "                  jaxpr={ lambda ; dh:f32[] di:f32[] dj:f32[] dk:f32[] dl:f32[] dm:f32[]\n",
       "                      dn:f32[]. let\n",
       "                      do:f32[] = mul -2.0 dm\n",
       "                      dp:f32[] = mul do dk\n",
       "                      dq:f32[] = add_any dl dp\n",
       "                      dr:f32[] = neg dn\n",
       "                      ds:f32[] = mul dr 1.0\n",
       "                      dt:f32[] = mul 1.0 ds\n",
       "                      du:f32[] = mul dt di\n",
       "                      dv:f32[] = add_any dq du\n",
       "                      dw:f32[] = mul dv dh\n",
       "                      dx:f32[] = neg dw\n",
       "                    in (dx,) }\n",
       "                ] cd ce cf cg cm cn co\n",
       "              in (dg,) }\n",
       "          ] d e f g h i j k 1.0\n",
       "        in (cc,) }\n",
       "    ] a\n",
       "  in (b,) }"
      ]
     },
     "execution_count": 21,
     "metadata": {},
     "output_type": "execute_result"
    }
   ],
   "source": [
    "jax.make_jaxpr(multiple_jit)(1.0)"
   ]
  },
  {
   "cell_type": "code",
   "execution_count": 22,
   "metadata": {},
   "outputs": [
    {
     "data": {
      "text/plain": [
       "{ lambda ; a:f32[]. let\n",
       "    b:f32[] = pjit[\n",
       "      name=sum_logistic\n",
       "      jaxpr={ lambda ; c:f32[]. let\n",
       "          d:f32[] = neg c\n",
       "          e:f32[] = exp d\n",
       "          f:f32[] = add 1.0 e\n",
       "          g:f32[] = div 1.0 f\n",
       "          _:f32[] = integer_pow[y=-2] f\n",
       "          _:f32[] = integer_pow[y=-2] f\n",
       "          h:f32[] = integer_pow[y=-3] f\n",
       "          _:f32[] = mul -2.0 h\n",
       "          i:f32[] = integer_pow[y=-2] f\n",
       "          j:f32[] = integer_pow[y=-3] f\n",
       "          k:f32[] = mul -2.0 j\n",
       "          l:f32[] = integer_pow[y=-3] f\n",
       "          m:f32[] = integer_pow[y=-4] f\n",
       "          n:f32[] = mul -3.0 m\n",
       "          o:f32[] = mul -2.0 l\n",
       "          p:f32[] = convert_element_type[new_dtype=float32 weak_type=False] g\n",
       "          _:f32[] = reduce_sum[axes=()] p\n",
       "          q:f32[] = mul 1.0 i\n",
       "          r:f32[] = mul q 1.0\n",
       "          s:f32[] = neg r\n",
       "          t:f32[] = mul s e\n",
       "          _:f32[] = neg t\n",
       "          u:f32[] = neg 1.0\n",
       "          v:f32[] = mul s u\n",
       "          w:f32[] = mul u e\n",
       "          x:f32[] = neg w\n",
       "          y:f32[] = mul x 1.0\n",
       "          z:f32[] = mul 1.0 y\n",
       "          ba:f32[] = mul z o\n",
       "          bb:f32[] = add_any v ba\n",
       "          bc:f32[] = mul bb e\n",
       "          _:f32[] = neg bc\n",
       "          bd:f32[] = neg 1.0\n",
       "          be:f32[] = mul bb bd\n",
       "          bf:f32[] = mul bd e\n",
       "          bg:f32[] = mul z bf\n",
       "          bh:f32[] = mul bf o\n",
       "          bi:f32[] = mul 1.0 bh\n",
       "          bj:f32[] = mul bi 1.0\n",
       "          bk:f32[] = neg bj\n",
       "          bl:f32[] = mul u bk\n",
       "          bm:f32[] = mul bf u\n",
       "          bn:f32[] = add_any be bl\n",
       "          bo:f32[] = neg bm\n",
       "          bp:f32[] = mul bo 1.0\n",
       "          bq:f32[] = mul 1.0 bp\n",
       "          br:f32[] = mul -2.0 bg\n",
       "          bs:f32[] = mul br n\n",
       "          bt:f32[] = mul bq k\n",
       "          bu:f32[] = add_any bs bt\n",
       "          bv:f32[] = add_any bn bu\n",
       "          bw:f32[] = mul bv e\n",
       "          bx:f32[] = neg bw\n",
       "        in (bx,) }\n",
       "    ] a\n",
       "  in (b,) }"
      ]
     },
     "execution_count": 22,
     "metadata": {},
     "output_type": "execute_result"
    }
   ],
   "source": [
    "jax.make_jaxpr(one_jit)(1.0)"
   ]
  },
  {
   "cell_type": "code",
   "execution_count": null,
   "metadata": {},
   "outputs": [],
   "source": []
  }
 ],
 "metadata": {
  "kernelspec": {
   "display_name": "Python 3",
   "language": "python",
   "name": "python3"
  },
  "language_info": {
   "codemirror_mode": {
    "name": "ipython",
    "version": 3
   },
   "file_extension": ".py",
   "mimetype": "text/x-python",
   "name": "python",
   "nbconvert_exporter": "python",
   "pygments_lexer": "ipython3",
   "version": "3.10.4"
  }
 },
 "nbformat": 4,
 "nbformat_minor": 2
}

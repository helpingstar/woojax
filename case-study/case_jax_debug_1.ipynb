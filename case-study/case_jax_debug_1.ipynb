{
 "cells": [
  {
   "cell_type": "markdown",
   "metadata": {},
   "source": [
    "`jax.debug.print`의 순서가 보장되지 않는 사례"
   ]
  },
  {
   "cell_type": "code",
   "execution_count": 6,
   "metadata": {},
   "outputs": [],
   "source": [
    "import jax\n",
    "import jax.numpy as jnp"
   ]
  },
  {
   "cell_type": "code",
   "execution_count": 8,
   "metadata": {},
   "outputs": [
    {
     "name": "stdout",
     "output_type": "stream",
     "text": [
      "[3] -0.756802499294281\n",
      "[2] 4.0\n",
      "[1] 2.0\n",
      "Result: -0.7568025\n"
     ]
    }
   ],
   "source": [
    "@jax.jit\n",
    "def compute(x):\n",
    "    y = x + 1\n",
    "    jax.debug.print(\"[1] {}\", y)\n",
    "    \n",
    "    z = y * 2\n",
    "    jax.debug.print(\"[2] {}\", z)\n",
    "    \n",
    "    w = jnp.sin(z)\n",
    "    jax.debug.print(\"[3] {}\", w)\n",
    "    \n",
    "    return w\n",
    "\n",
    "x = jnp.array(1.0)\n",
    "result = compute(x)\n",
    "print(\"Result:\", result)\n"
   ]
  },
  {
   "cell_type": "code",
   "execution_count": 11,
   "metadata": {},
   "outputs": [
    {
     "name": "stdout",
     "output_type": "stream",
     "text": [
      "[1] 2.0\n",
      "[2] 4.0\n",
      "[3] -0.756802499294281\n",
      "Result: -0.7568025\n"
     ]
    }
   ],
   "source": [
    "@jax.jit\n",
    "def compute(x):\n",
    "    y = x + 1\n",
    "    jax.debug.print(\"[1] {}\", y, ordered=True)\n",
    "    \n",
    "    z = y * 2\n",
    "    jax.debug.print(\"[2] {}\", z, ordered=True)\n",
    "    \n",
    "    w = jnp.sin(z)\n",
    "    jax.debug.print(\"[3] {}\", w, ordered=True)\n",
    "    \n",
    "    return w\n",
    "\n",
    "x = jnp.array(1.0)\n",
    "result = compute(x)\n",
    "print(\"Result:\", result)\n"
   ]
  },
  {
   "cell_type": "code",
   "execution_count": 10,
   "metadata": {},
   "outputs": [
    {
     "data": {
      "text/plain": [
       "{ lambda ; a:f32[]. let\n",
       "    b:f32[] = pjit[\n",
       "      name=compute\n",
       "      jaxpr={ lambda ; c:f32[]. let\n",
       "          d:f32[] = add c 1.0\n",
       "          debug_callback[\n",
       "            callback=<function debug_callback.<locals>._flat_callback at 0x7db141acdbd0>\n",
       "            effect=Debug\n",
       "          ] d\n",
       "          e:f32[] = mul d 2.0\n",
       "          debug_callback[\n",
       "            callback=<function debug_callback.<locals>._flat_callback at 0x7db141acfc70>\n",
       "            effect=Debug\n",
       "          ] e\n",
       "          f:f32[] = sin e\n",
       "          debug_callback[\n",
       "            callback=<function debug_callback.<locals>._flat_callback at 0x7db141acf9a0>\n",
       "            effect=Debug\n",
       "          ] f\n",
       "        in (f,) }\n",
       "    ] a\n",
       "  in (b,) }"
      ]
     },
     "execution_count": 10,
     "metadata": {},
     "output_type": "execute_result"
    }
   ],
   "source": [
    "jax.make_jaxpr(compute)(x)"
   ]
  },
  {
   "cell_type": "code",
   "execution_count": null,
   "metadata": {},
   "outputs": [],
   "source": []
  }
 ],
 "metadata": {
  "kernelspec": {
   "display_name": "Python 3",
   "language": "python",
   "name": "python3"
  },
  "language_info": {
   "codemirror_mode": {
    "name": "ipython",
    "version": 3
   },
   "file_extension": ".py",
   "mimetype": "text/x-python",
   "name": "python",
   "nbconvert_exporter": "python",
   "pygments_lexer": "ipython3",
   "version": "3.10.4"
  }
 },
 "nbformat": 4,
 "nbformat_minor": 2
}

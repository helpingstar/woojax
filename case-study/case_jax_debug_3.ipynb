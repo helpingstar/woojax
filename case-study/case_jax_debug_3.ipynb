{
 "cells": [
  {
   "cell_type": "code",
   "execution_count": 1,
   "metadata": {},
   "outputs": [],
   "source": [
    "import jax\n",
    "import jax.numpy as jnp"
   ]
  },
  {
   "cell_type": "code",
   "execution_count": 5,
   "metadata": {},
   "outputs": [
    {
     "name": "stdout",
     "output_type": "stream",
     "text": [
      "print(x) -> Traced<ShapedArray(float32[], weak_type=True)>with<DynamicJaxprTrace(level=1/0)>\n",
      "print(y) -> Traced<ShapedArray(float32[], weak_type=True)>with<DynamicJaxprTrace(level=1/0)>\n"
     ]
    }
   ],
   "source": [
    "@jax.jit\n",
    "def f1(x):\n",
    "  print(\"print(x) ->\", x)\n",
    "  y = jnp.sin(x)\n",
    "  print(\"print(y) ->\", y)\n",
    "  return y\n",
    "\n",
    "result = f1(2.)"
   ]
  },
  {
   "cell_type": "code",
   "execution_count": 6,
   "metadata": {},
   "outputs": [
    {
     "name": "stdout",
     "output_type": "stream",
     "text": [
      "jax.debug.print(y) -> 0.9092974662780762\n",
      "jax.debug.print(x) -> 2.0\n"
     ]
    }
   ],
   "source": [
    "@jax.jit\n",
    "def f2(x):\n",
    "  jax.debug.print(\"jax.debug.print(x) -> {x}\", x=x)\n",
    "  y = jnp.sin(x)\n",
    "  jax.debug.print(\"jax.debug.print(y) -> {y}\", y=y)\n",
    "  return y\n",
    "\n",
    "result = f2(2.)"
   ]
  },
  {
   "cell_type": "code",
   "execution_count": 7,
   "metadata": {},
   "outputs": [
    {
     "data": {
      "text/plain": [
       "{ lambda ; a:f32[]. let\n",
       "    b:f32[] = pjit[\n",
       "      name=f1\n",
       "      jaxpr={ lambda ; c:f32[]. let d:f32[] = sin c in (d,) }\n",
       "    ] a\n",
       "  in (b,) }"
      ]
     },
     "execution_count": 7,
     "metadata": {},
     "output_type": "execute_result"
    }
   ],
   "source": [
    "jax.make_jaxpr(f1)(2.)"
   ]
  },
  {
   "cell_type": "code",
   "execution_count": 8,
   "metadata": {},
   "outputs": [
    {
     "data": {
      "text/plain": [
       "{ lambda ; a:f32[]. let\n",
       "    b:f32[] = pjit[\n",
       "      name=f2\n",
       "      jaxpr={ lambda ; c:f32[]. let\n",
       "          debug_callback[\n",
       "            callback=<function debug_callback.<locals>._flat_callback at 0x73f0a81363b0>\n",
       "            effect=Debug\n",
       "          ] c\n",
       "          d:f32[] = sin c\n",
       "          debug_callback[\n",
       "            callback=<function debug_callback.<locals>._flat_callback at 0x73f0a8136440>\n",
       "            effect=Debug\n",
       "          ] d\n",
       "        in (d,) }\n",
       "    ] a\n",
       "  in (b,) }"
      ]
     },
     "execution_count": 8,
     "metadata": {},
     "output_type": "execute_result"
    }
   ],
   "source": [
    "jax.make_jaxpr(f2)(2.)"
   ]
  },
  {
   "cell_type": "code",
   "execution_count": null,
   "metadata": {},
   "outputs": [],
   "source": []
  }
 ],
 "metadata": {
  "kernelspec": {
   "display_name": "Python 3",
   "language": "python",
   "name": "python3"
  },
  "language_info": {
   "codemirror_mode": {
    "name": "ipython",
    "version": 3
   },
   "file_extension": ".py",
   "mimetype": "text/x-python",
   "name": "python",
   "nbconvert_exporter": "python",
   "pygments_lexer": "ipython3",
   "version": "3.10.4"
  }
 },
 "nbformat": 4,
 "nbformat_minor": 2
}

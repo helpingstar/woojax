{
 "cells": [
  {
   "cell_type": "code",
   "execution_count": 17,
   "metadata": {},
   "outputs": [],
   "source": [
    "import jax\n",
    "from jax.tree_util import register_pytree_node"
   ]
  },
  {
   "cell_type": "code",
   "execution_count": 28,
   "metadata": {},
   "outputs": [
    {
     "name": "stdout",
     "output_type": "stream",
     "text": [
      "PyTreeDef([*, {'k1': *, 'k2': (*, *)}, CustomNode(namedtuple[ATuple], [*])])\n",
      "------------------------------\n",
      "key_path | (SequenceKey(idx=0),)\n",
      "key_str  | [0]\n",
      "value    | 1\n",
      "------------------------------\n",
      "key_path | (SequenceKey(idx=1), DictKey(key='k1'))\n",
      "key_str  | [1]['k1']\n",
      "value    | 2\n",
      "------------------------------\n",
      "key_path | (SequenceKey(idx=1), DictKey(key='k2'), SequenceKey(idx=0))\n",
      "key_str  | [1]['k2'][0]\n",
      "value    | 3\n",
      "------------------------------\n",
      "key_path | (SequenceKey(idx=1), DictKey(key='k2'), SequenceKey(idx=1))\n",
      "key_str  | [1]['k2'][1]\n",
      "value    | 4\n",
      "------------------------------\n",
      "key_path | (SequenceKey(idx=2), GetAttrKey(name='name'))\n",
      "key_str  | [2].name\n",
      "value    | foo\n"
     ]
    }
   ],
   "source": [
    "import collections\n",
    "\n",
    "ATuple = collections.namedtuple(\"ATuple\", ('name'))\n",
    "\n",
    "tree = [1, {'k1': 2, 'k2': (3, 4)}, ATuple('foo')]\n",
    "flattened, pytreedef = jax.tree_util.tree_flatten_with_path(tree)\n",
    "\n",
    "print(pytreedef)\n",
    "for key_path, value in flattened:\n",
    "  print('-'*30)\n",
    "  print(f\"key_path | {key_path}\")\n",
    "  print(f'key_str  | {jax.tree_util.keystr(key_path)}')\n",
    "  print(f\"value    | {value}\")"
   ]
  },
  {
   "cell_type": "markdown",
   "metadata": {},
   "source": [
    "* `SequenceKey(idx: int)`: For lists and tuples.\n",
    "* `DictKey(key: Hashable)`: For dictionaries.\n",
    "* `GetAttrKey(name: str)`: For `namedtuple`s and preferably custom pytree nodes (more in the next section)"
   ]
  },
  {
   "cell_type": "markdown",
   "metadata": {},
   "source": [
    "## Custom pytree"
   ]
  },
  {
   "cell_type": "code",
   "execution_count": 23,
   "metadata": {},
   "outputs": [],
   "source": [
    "class Special1(object):\n",
    "  def __repr__(self):\n",
    "    return \"Special1(x={}, y={})\".format(self.x, self.y)\n",
    "\n",
    "  def __init__(self, x, y):\n",
    "    self.x = x\n",
    "    self.y = y\n",
    "\n",
    "def special_flatten1(v):\n",
    "  children = (v.x, v.y)\n",
    "  aux_data = None\n",
    "  return (children, aux_data)\n",
    "\n",
    "def special_unflatten1(aux_data, children):\n",
    "  return Special1(*children)\n",
    "\n",
    "# Global registration\n",
    "register_pytree_node(\n",
    "    Special1,\n",
    "    special_flatten1,\n",
    "    special_unflatten1\n",
    ")"
   ]
  },
  {
   "cell_type": "code",
   "execution_count": 24,
   "metadata": {},
   "outputs": [
    {
     "name": "stdout",
     "output_type": "stream",
     "text": [
      "PyTreeDef(CustomNode(Special1[None], [*, *]))\n",
      "------------------------------\n",
      "key_path | (FlattenedIndexKey(key=0),)\n",
      "key_str  | [<flat index 0>]\n",
      "value    | 1\n",
      "------------------------------\n",
      "key_path | (FlattenedIndexKey(key=1),)\n",
      "key_str  | [<flat index 1>]\n",
      "value    | 2\n"
     ]
    }
   ],
   "source": [
    "special1 = Special1(1, 2)\n",
    "\n",
    "flattened, pytreedef = jax.tree_util.tree_flatten_with_path(special1)\n",
    "\n",
    "print(pytreedef)\n",
    "for key_path, value in flattened:\n",
    "  print('-'*30)\n",
    "  print(f\"key_path | {key_path}\")\n",
    "  print(f'key_str  | {jax.tree_util.keystr(key_path)}')\n",
    "  print(f\"value    | {value}\")"
   ]
  },
  {
   "cell_type": "code",
   "execution_count": 26,
   "metadata": {},
   "outputs": [],
   "source": [
    "class Special2(object):\n",
    "  def __repr__(self):\n",
    "    return \"Special(x={}, y={})\".format(self.x, self.y)\n",
    "\n",
    "  def __init__(self, x, y):\n",
    "    self.x = x\n",
    "    self.y = y"
   ]
  },
  {
   "cell_type": "code",
   "execution_count": 27,
   "metadata": {},
   "outputs": [
    {
     "name": "stdout",
     "output_type": "stream",
     "text": [
      "PyTreeDef(*)\n",
      "------------------------------\n",
      "key_path | ()\n",
      "key_str  | \n",
      "value    | Special(x=1, y=2)\n"
     ]
    }
   ],
   "source": [
    "special1 = Special2(1, 2)\n",
    "\n",
    "flattened, pytreedef = jax.tree_util.tree_flatten_with_path(special1)\n",
    "\n",
    "print(pytreedef)\n",
    "for key_path, value in flattened:\n",
    "  print('-'*30)\n",
    "  print(f\"key_path | {key_path}\")\n",
    "  print(f'key_str  | {jax.tree_util.keystr(key_path)}')\n",
    "  print(f\"value    | {value}\")"
   ]
  },
  {
   "cell_type": "code",
   "execution_count": null,
   "metadata": {},
   "outputs": [],
   "source": []
  }
 ],
 "metadata": {
  "kernelspec": {
   "display_name": "Python 3",
   "language": "python",
   "name": "python3"
  },
  "language_info": {
   "codemirror_mode": {
    "name": "ipython",
    "version": 3
   },
   "file_extension": ".py",
   "mimetype": "text/x-python",
   "name": "python",
   "nbconvert_exporter": "python",
   "pygments_lexer": "ipython3",
   "version": "3.10.4"
  }
 },
 "nbformat": 4,
 "nbformat_minor": 2
}
